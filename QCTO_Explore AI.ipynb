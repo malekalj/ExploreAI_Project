{
 "cells": [
  {
   "cell_type": "markdown",
   "metadata": {},
   "source": [
    "# Group Project Jerry Maleka\n",
    "\n",
    "### Project Title: World Forest Area (km and %)\n",
    "#### Done By: _Jerry Maleka, Josia Sithole & Nhlokomo Mhlophe_\n",
    "\n",
    "© ExploreAI 2024\n",
    "\n",
    "---\n",
    "\n",
    "## Table of Contents\n",
    "\n",
    "<a href=#BC> Background Context</a>\n",
    "\n",
    "<a href=#one>1. Importing Packages</a>\n",
    "\n",
    "<a href=#two>2. Data Collection and Description</a>\n",
    "\n",
    "<a href=#three>3. Loading Data </a>\n",
    "\n",
    "<a href=#four>4. Data Cleaning and Filtering</a>\n",
    "\n",
    "<a href=#five>5. Exploratory Data Analysis (EDA)</a>\n",
    "\n",
    "<a href=#six>6. Modeling </a>\n",
    "\n",
    "<a href=#seven>7. Evaluation and Validation</a>\n",
    "\n",
    "<a href=#eight>8. Final Model</a>\n",
    "\n",
    "<a href=#nine>9. Conclusion and Future Work</a>\n",
    "\n",
    "<a href=#ten>10. References</a>"
   ]
  },
  {
   "cell_type": "markdown",
   "metadata": {},
   "source": [
    "---\n",
    " <a id=\"BC\"></a>\n",
    "## **Project Overview**\n",
    "<a href=#cont>Back to Table of Contents</a>\n",
    "\n",
    "\n",
    "The project aims to analyze changes in forest areas across different countries from 1990 to 2021. \n",
    "\n",
    "The analysis focuses on identifying trends, understanding regional differences, and providing insights into forest conservation efforts globally. The ultimate goal is to highlight countries with significant changes in forest area and suggest additional data that could enrich the analysis.  \n",
    "\n",
    "\n"
   ]
  },
  {
   "cell_type": "markdown",
   "metadata": {},
   "source": [
    "---\n",
    "<a href=#one></a>\n",
    "## **Importing Packages**\n",
    "<a href=#cont>Back to Table of Contents</a>\n",
    "\n",
    "\n",
    "Python packages are necessary for data manipulation, analysis, and visualization.\n",
    "\n",
    "* **Purpose:** Set up the Python environment with necessary libraries and tools.\n",
    "* **Details:** List and import all the Python packages that will be used throughout the project such as Pandas for data manipulation, Matplotlib/Seaborn for visualization, scikit-learn for modeling, etc.\n",
    "---"
   ]
  },
  {
   "cell_type": "code",
   "execution_count": 1,
   "metadata": {},
   "outputs": [],
   "source": [
    "#Importing all important packages\n",
    "\n",
    "import pandas as pd                  # For data manipulation and analysis\n",
    "import numpy as np                   # For numerical operations\n",
    "import matplotlib.pyplot as plt      # For data visualization\n",
    "import seaborn as sns                # For enhanced data visualization\n"
   ]
  },
  {
   "cell_type": "markdown",
   "metadata": {},
   "source": [
    "---\n",
    "<a href=#two></a>\n",
    "## **Data Collection and Description**\n",
    "<a href=#cont>Back to Table of Contents</a>\n",
    "\n",
    "1.\tData Sources:\n",
    "\tKaggle Dataset: for forest area.\n",
    "\tWorld bank: for population data.\n",
    "2.\tUnit of measures:\n",
    "\tForest Area : Square kilometers (km²).\n",
    "\tForest Area percentage: percentage of the total land area (%).\n",
    "\tPopulation Data: Total population figures for each country.\n",
    "3.\tTime Frame:\n",
    "\t1990-2021\n",
    "\tThe data was collected annually.\n",
    "4.\tGeographical Coverage:\n",
    "\tThe data set includes xxx countries.\n",
    "\tExclusions: \n",
    "5.\tVariables/Attributes:\n",
    "\tCountry Name: The country or region being analyzed.\n",
    "\tCountry Code: A code used to represent countries.\n",
    "\tYear: The specific year the data corresponds to.\n",
    "\tForest Area: The size of the forested area.\n",
    "\tPopulation: The total population of the country.\n",
    "\tForest Area Per Capita: The amount of forested land available per person.\n"
   ]
  },
  {
   "cell_type": "code",
   "execution_count": null,
   "metadata": {},
   "outputs": [],
   "source": [
    "#Please use code cells to code in and do not forget to comment your code."
   ]
  },
  {
   "cell_type": "markdown",
   "metadata": {},
   "source": [
    "---\n",
    "<a href=#three></a>\n",
    "## **Loading Data**\n",
    "<a href=#cont>Back to Table of Contents</a>\n",
    "\n",
    "* **Purpose:** Load the data into the notebook for manipulation and analysis.\n",
    "* **Details:** Show the code used to load the data and display the first few rows to give a sense of what the raw data looks like.\n",
    "---"
   ]
  },
  {
   "cell_type": "code",
   "execution_count": 2,
   "metadata": {},
   "outputs": [
    {
     "name": "stdout",
     "output_type": "stream",
     "text": [
      "     Country Name Country Code     1990      1991      1992      1993  \\\n",
      "0     Afghanistan          AFG  12084.4  12084.40  12084.40  12084.40   \n",
      "1         Albania          ALB   7888.0   7868.50   7849.00   7829.50   \n",
      "2         Algeria          DZA  16670.0  16582.00  16494.00  16406.00   \n",
      "3  American Samoa          ASM    180.7    180.36    180.02    179.68   \n",
      "4         Andorra          AND    160.0    160.00    160.00    160.00   \n",
      "\n",
      "       1994     1995      1996      1997  ...      2012       2013      2014  \\\n",
      "0  12084.40  12084.4  12084.40  12084.40  ...  12084.40  12084.400  12084.40   \n",
      "1   7810.00   7790.5   7771.00   7751.50  ...   7849.17   7863.405   7877.64   \n",
      "2  16318.00  16230.0  16142.00  16054.00  ...  19332.00  19408.000  19484.00   \n",
      "3    179.34    179.0    178.66    178.32  ...    173.70    173.400    173.10   \n",
      "4    160.00    160.0    160.00    160.00  ...    160.00    160.000    160.00   \n",
      "\n",
      "        2015     2016       2017     2018     2019     2020       2021  \n",
      "0  12084.400  12084.4  12084.400  12084.4  12084.4  12084.4  12084.400  \n",
      "1   7891.875   7891.8   7889.025   7889.0   7889.0   7889.0   7889.000  \n",
      "2  19560.000  19560.0  19430.000  19300.0  19390.0  19490.0  19583.333  \n",
      "3    172.800    172.5    172.200    171.9    171.6    171.3    171.000  \n",
      "4    160.000    160.0    160.000    160.0    160.0    160.0    160.000  \n",
      "\n",
      "[5 rows x 34 columns]\n",
      "     Country Name Country Code       1990       1991       1992       1993  \\\n",
      "0     Afghanistan          AFG   1.852782   1.852782   1.852782   1.852782   \n",
      "1         Albania          ALB  28.788321  28.717153  28.645985  28.574818   \n",
      "2         Algeria          DZA   0.699908   0.696214   0.692519   0.688824   \n",
      "3  American Samoa          ASM  90.350000  90.180000  90.010000  89.840000   \n",
      "4         Andorra          AND  34.042553  34.042553  34.042553  34.042553   \n",
      "\n",
      "        1994       1995       1996       1997  ...       2012       2013  \\\n",
      "0   1.852782   1.852782   1.852782   1.852782  ...   1.852782   1.852782   \n",
      "1  28.503650  28.432482  28.361314  28.290146  ...  28.646606  28.698558   \n",
      "2   0.685129   0.681435   0.677740   0.674045  ...   0.811675   0.814866   \n",
      "3  89.670000  89.500000  89.330000  89.160000  ...  86.850000  86.700000   \n",
      "4  34.042553  34.042553  34.042553  34.042553  ...  34.042553  34.042553   \n",
      "\n",
      "        2014       2015       2016       2017       2018       2019  \\\n",
      "0   1.852782   1.852782   1.852782   1.852782   1.852782   1.852782   \n",
      "1  28.750511  28.802464  28.802190  28.792062  28.791971  28.791971   \n",
      "2   0.818057   0.821248   0.821248   0.815790   0.810332   0.814110   \n",
      "3  86.550000  86.400000  86.250000  86.100000  85.950000  85.800000   \n",
      "4  34.042553  34.042553  34.042553  34.042553  34.042553  34.042553   \n",
      "\n",
      "        2020       2021  \n",
      "0   1.852782   1.852782  \n",
      "1  28.791971  28.791971  \n",
      "2   0.818309   0.822228  \n",
      "3  85.650000  85.500000  \n",
      "4  34.042553  34.042553  \n",
      "\n",
      "[5 rows x 34 columns]\n",
      "                  Country Name Country Code         1990         1991  \\\n",
      "0                        Aruba          ABW      65712.0      67864.0   \n",
      "1  Africa Eastern and Southern          AFE  309890664.0  318544083.0   \n",
      "2                  Afghanistan          AFG   10694796.0   10745167.0   \n",
      "3   Africa Western and Central          AFW  206739024.0  212172888.0   \n",
      "4                       Angola          AGO   11828638.0   12228691.0   \n",
      "\n",
      "          1992         1993         1994         1995         1996  \\\n",
      "0      70192.0      72360.0      74710.0      77050.0      79417.0   \n",
      "1  326933522.0  335625136.0  344418362.0  353466601.0  362985802.0   \n",
      "2   12057433.0   14003760.0   15455555.0   16418912.0   17106595.0   \n",
      "3  217966101.0  223788766.0  229675775.0  235861484.0  242200260.0   \n",
      "4   12632507.0   13038270.0   13462031.0   13912253.0   14383350.0   \n",
      "\n",
      "          1997  ...         2014         2015         2016         2017  \\\n",
      "0      81858.0  ...     103594.0     104257.0     104874.0     105439.0   \n",
      "1  372352230.0  ...  583651101.0  600008424.0  616377605.0  632746570.0   \n",
      "2   17788819.0  ...   32716210.0   33753499.0   34636207.0   35643418.0   \n",
      "3  248713095.0  ...  397855507.0  408690375.0  419778384.0  431138704.0   \n",
      "4   14871146.0  ...   27128337.0   28127721.0   29154746.0   30208628.0   \n",
      "\n",
      "          2018         2019         2020         2021         2022  \\\n",
      "0     105962.0     106442.0     106585.0     106537.0     106445.0   \n",
      "1  649757148.0  667242986.0  685112979.0  702977106.0  720859132.0   \n",
      "2   36686784.0   37769499.0   38972230.0   40099462.0   41128771.0   \n",
      "3  442646825.0  454306063.0  466189102.0  478185907.0  490330870.0   \n",
      "4   31273533.0   32353588.0   33428486.0   34503774.0   35588987.0   \n",
      "\n",
      "          2023  \n",
      "0     106277.0  \n",
      "1  739108306.0  \n",
      "2   42239854.0  \n",
      "3  502789511.0  \n",
      "4   36684202.0  \n",
      "\n",
      "[5 rows x 36 columns]\n"
     ]
    }
   ],
   "source": [
    "#Data Loading\n",
    "# Loading the forest area data in square kilometers\n",
    "\n",
    "forest_area_km = pd.read_csv('forest_area_km.csv')\n",
    "\n",
    "# Loading the forest area percentage data\n",
    "forest_area_percent = pd.read_csv('forest_area_percent.csv')\n",
    "\n",
    "# Loading the Population_per_countries_overtime  data\n",
    "Population_per_countries_overtime = pd.read_csv('Population_per_countries_overtime.csv')\n",
    "\n",
    "# Display the first few rows of the DataFrame\n",
    "\n",
    "print(forest_area_km.head())\n",
    "print(forest_area_percent.head())\n",
    "print(Population_per_countries_overtime.head())"
   ]
  },
  {
   "cell_type": "markdown",
   "metadata": {},
   "source": [
    "---\n",
    "<a href=#four></a>\n",
    "## **Data Cleaning and Filtering**\n",
    "<a href=#cont>Back to Table of Contents</a>\n",
    "\n",
    "* **Purpose:** Prepare the data for analysis by cleaning and filtering.\n",
    "* **Details:** Include steps for handling missing values, removing outliers, correcting errors, and possibly reducing the data (filtering based on certain criteria or features).\n",
    "---"
   ]
  },
  {
   "cell_type": "code",
   "execution_count": 3,
   "metadata": {},
   "outputs": [
    {
     "data": {
      "text/plain": [
       "Country Name    0\n",
       "Country Code    0\n",
       "1990            1\n",
       "1991            1\n",
       "1992            1\n",
       "1993            1\n",
       "1994            1\n",
       "1995            1\n",
       "1996            1\n",
       "1997            1\n",
       "1998            1\n",
       "1999            1\n",
       "2000            1\n",
       "2001            1\n",
       "2002            1\n",
       "2003            1\n",
       "2004            1\n",
       "2005            1\n",
       "2006            1\n",
       "2007            1\n",
       "2008            1\n",
       "2009            1\n",
       "2010            1\n",
       "2011            1\n",
       "2012            1\n",
       "2013            1\n",
       "2014            1\n",
       "2015            1\n",
       "2016            1\n",
       "2017            1\n",
       "2018            1\n",
       "2019            1\n",
       "2020            1\n",
       "2021            1\n",
       "2022            1\n",
       "2023            1\n",
       "dtype: int64"
      ]
     },
     "execution_count": 3,
     "metadata": {},
     "output_type": "execute_result"
    }
   ],
   "source": [
    "#1.\tChecking for Missing Values:\n",
    "#•\tMissing values can skew analysis results. It's essential to identify and handle them appropriately.\n",
    "forest_area_km.isnull().sum()\n",
    "forest_area_percent.isnull().sum()\n",
    "Population_per_countries_overtime.isnull().sum()\n"
   ]
  },
  {
   "cell_type": "code",
   "execution_count": 4,
   "metadata": {},
   "outputs": [
    {
     "name": "stderr",
     "output_type": "stream",
     "text": [
      "C:\\Users\\F5267366\\AppData\\Local\\Temp\\ipykernel_24048\\3905754128.py:5: FutureWarning: DataFrame.fillna with 'method' is deprecated and will raise in a future version. Use obj.ffill() or obj.bfill() instead.\n",
      "  forest_area_km.fillna(method='ffill', inplace=True)\n",
      "C:\\Users\\F5267366\\AppData\\Local\\Temp\\ipykernel_24048\\3905754128.py:6: FutureWarning: DataFrame.fillna with 'method' is deprecated and will raise in a future version. Use obj.ffill() or obj.bfill() instead.\n",
      "  forest_area_percent.fillna(method='ffill', inplace=True)\n",
      "C:\\Users\\F5267366\\AppData\\Local\\Temp\\ipykernel_24048\\3905754128.py:7: FutureWarning: DataFrame.fillna with 'method' is deprecated and will raise in a future version. Use obj.ffill() or obj.bfill() instead.\n",
      "  Population_per_countries_overtime.fillna(method='ffill', inplace=True)\n"
     ]
    }
   ],
   "source": [
    "#2.\tHandling Missing Values:\n",
    "#•\tDepending on the nature of the missing data, you can either drop rows/columns with missing values or fill them using methods like forward fill, backward fill, or mean imputation.\n",
    "\n",
    "#Handling Missing Values:\n",
    "forest_area_km.fillna(method='ffill', inplace=True)\n",
    "forest_area_percent.fillna(method='ffill', inplace=True)\n",
    "Population_per_countries_overtime.fillna(method='ffill', inplace=True)\n"
   ]
  },
  {
   "cell_type": "code",
   "execution_count": 5,
   "metadata": {},
   "outputs": [],
   "source": [
    "#3.\tData Type Conversion:\n",
    "#•\tEnsuring all columns have appropriate data types, such as converting years to integers if needed.\n",
    "\n",
    "forest_area_km = forest_area_km.astype({'1990': 'int64', '2021': 'int64'})\n",
    "forest_area_percent = forest_area_percent.astype({'1990': 'float64', '2021': 'float64'})\n"
   ]
  },
  {
   "cell_type": "code",
   "execution_count": 6,
   "metadata": {},
   "outputs": [],
   "source": [
    "#4.\tRemoving Duplicates:\n",
    "#•\tEnsuring there are no duplicate entries that might affect the analysis.\n",
    "\n",
    "#Removing Duplicates:\n",
    "\n",
    "forest_area_km.drop_duplicates(inplace=True)\n",
    "forest_area_percent.drop_duplicates(inplace=True)\n"
   ]
  },
  {
   "cell_type": "markdown",
   "metadata": {},
   "source": [
    "---\n",
    "<a href=#five></a>\n",
    "## **Exploratory Data Analysis (EDA)**\n",
    "<a href=#cont>Back to Table of Contents</a>\n",
    "\n",
    "* **Purpose:** Explore and visualize the data to uncover patterns, trends, and relationships.\n",
    "* **Details:** Use statistics and visualizations to explore the data. This may include histograms, box plots, scatter plots, and correlation matrices. Discuss any significant findings.\n",
    "---\n"
   ]
  },
  {
   "cell_type": "code",
   "execution_count": null,
   "metadata": {},
   "outputs": [],
   "source": [
    "#Please use code cells to code in and do not forget to comment your code."
   ]
  },
  {
   "cell_type": "markdown",
   "metadata": {},
   "source": [
    "---\n",
    "<a href=#six></a>\n",
    "## **Modeling**\n",
    "<a href=#cont>Back to Table of Contents</a>\n",
    "\n",
    "* **Purpose:** Develop and train predictive or statistical models.\n",
    "* **Details:** Describe the choice of models, feature selection and engineering processes, and show how the models are trained. Include code for setting up the models and explanations of the model parameters.\n",
    "---\n"
   ]
  },
  {
   "cell_type": "code",
   "execution_count": null,
   "metadata": {},
   "outputs": [],
   "source": [
    "#Please use code cells to code in and do not forget to comment your code."
   ]
  },
  {
   "cell_type": "markdown",
   "metadata": {},
   "source": [
    "---\n",
    "<a href=#seven></a>\n",
    "## **Evaluation and Validation**\n",
    "<a href=#cont>Back to Table of Contents</a>\n",
    "\n",
    "* **Purpose:** Evaluate and validate the effectiveness and accuracy of the models.\n",
    "* **Details:** Present metrics used to evaluate the models, such as accuracy, precision, recall, F1-score, etc. Discuss validation techniques employed, such as cross-validation or train/test split.\n",
    "---"
   ]
  },
  {
   "cell_type": "code",
   "execution_count": null,
   "metadata": {},
   "outputs": [],
   "source": [
    "#Please use code cells to code in and do not forget to comment your code."
   ]
  },
  {
   "cell_type": "markdown",
   "metadata": {},
   "source": [
    "---\n",
    "<a href=#eight></a>\n",
    "## **Final Model**\n",
    "<a href=#cont>Back to Table of Contents</a>\n",
    "\n",
    "* **Purpose:** Present the final model and its performance.\n",
    "* **Details:** Highlight the best-performing model and discuss its configuration, performance, and why it was chosen over others.\n",
    "---\n"
   ]
  },
  {
   "cell_type": "code",
   "execution_count": null,
   "metadata": {},
   "outputs": [],
   "source": [
    "#Please use code cells to code in and do not forget to comment your code."
   ]
  },
  {
   "cell_type": "markdown",
   "metadata": {},
   "source": [
    "---\n",
    "<a href=#nine></a>\n",
    "## **Conclusion and Future Work**\n",
    "<a href=#cont>Back to Table of Contents</a>\n",
    "\n",
    "* **Purpose:** Summarize the findings and discuss future directions.\n",
    "* **Details:** Conclude with a summary of the results, insights gained, limitations of the study, and suggestions for future projects or improvements in methodology or data collection.\n",
    "---\n"
   ]
  },
  {
   "cell_type": "code",
   "execution_count": null,
   "metadata": {},
   "outputs": [],
   "source": [
    "#Please use code cells to code in and do not forget to comment your code."
   ]
  },
  {
   "cell_type": "markdown",
   "metadata": {},
   "source": [
    "---\n",
    "<a href=#ten></a>\n",
    "## **References**\n",
    "<a href=#cont>Back to Table of Contents</a>\n",
    "\n",
    "* **Purpose:** Provide citations and sources of external content.\n",
    "* **Details:** List all the references and sources consulted during the project, including data sources, research papers, and documentation for tools and libraries used.\n",
    "---"
   ]
  },
  {
   "cell_type": "code",
   "execution_count": null,
   "metadata": {},
   "outputs": [],
   "source": [
    "#Please use code cells to code in and do not forget to comment your code."
   ]
  },
  {
   "cell_type": "markdown",
   "metadata": {},
   "source": [
    "## Additional Sections to Consider\n",
    "\n",
    "* ### Appendix: \n",
    "For any additional code, detailed tables, or extended data visualizations that are supplementary to the main content.\n",
    "\n",
    "* ### Contributors: \n",
    "If this is a group project, list the contributors and their roles or contributions to the project.\n"
   ]
  }
 ],
 "metadata": {
  "kernelspec": {
   "display_name": "base",
   "language": "python",
   "name": "python3"
  },
  "language_info": {
   "codemirror_mode": {
    "name": "ipython",
    "version": 3
   },
   "file_extension": ".py",
   "mimetype": "text/x-python",
   "name": "python",
   "nbconvert_exporter": "python",
   "pygments_lexer": "ipython3",
   "version": "3.11.7"
  },
  "orig_nbformat": 4
 },
 "nbformat": 4,
 "nbformat_minor": 2
}
